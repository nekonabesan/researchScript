{
 "cells": [
  {
   "cell_type": "code",
   "execution_count": 1,
   "id": "6bd34608-104a-42ce-8910-b332739d762c",
   "metadata": {},
   "outputs": [],
   "source": [
    "import sympy as sp\n",
    "from sympy.physics.mechanics import *\n",
    "init_vprinting()"
   ]
  },
  {
   "cell_type": "code",
   "execution_count": 2,
   "id": "5acf6570-8999-43c9-a382-3ebafa59fa88",
   "metadata": {},
   "outputs": [],
   "source": [
    "# ------------------------------------------------\n",
    "# Common symbols and reference frame\n",
    "# ------------------------------------------------\n",
    "# Define symbols, Common\n",
    "t = sp.symbols('t')                                    # Time\n",
    "g = sp.symbols('g')                                    # Gravity\n",
    "# Define reference frame, Common\n",
    "N = ReferenceFrame('N')\n",
    "O = Point('O')                                         # Origin point\n",
    "O.set_vel(N, 0)"
   ]
  },
  {
   "cell_type": "code",
   "execution_count": 3,
   "id": "1c439133-57e7-4b75-897f-05141923f251",
   "metadata": {},
   "outputs": [],
   "source": [
    "# ------------------------------------------------\n",
    "# Pendulum\n",
    "# ------------------------------------------------\n",
    "# Symbols\n",
    "M, I, lp, mu_p = sp.symbols('M I lp mu_p')           # Mass, Inertia, length, and friction\n",
    "theta = dynamicsymbols('theta')                        # Angle with respect to vertical line\n",
    "# Reference frame and rigid body\n",
    "A = N.orientnew('A', 'Axis', (theta, N.y))             # Define new reference frame for pendulum\n",
    "A.set_ang_vel(N, theta.diff(t, 1) * N.y)               # Set angular velocity of reference frame\n",
    "C_p = Point('C_p')                                     # Mass center of pendulum\n",
    "I_tensor = I * outer(A.y, A.y)                     # Inertia tensor\n",
    "P = RigidBody('P', C_p, A, M, (I_tensor, C_p))       # Definition of rigid body"
   ]
  },
  {
   "cell_type": "code",
   "execution_count": 4,
   "id": "8b2a0e2b-e05f-4e39-99c8-f219ed4baa4e",
   "metadata": {},
   "outputs": [],
   "source": [
    "# ------------------------------------------------\n",
    "# Wheel\n",
    "# ------------------------------------------------\n",
    "# Symbols\n",
    "m, J, r_w, mu_w = sp.symbols('m J r_w mu_w')\n",
    "phi = dynamicsymbols('phi')\n",
    "# Reference frame and rigid body\n",
    "B = A.orientnew('B', 'Axis', (phi, A.y))               # Define new reference frame for pendulum\n",
    "B.set_ang_vel(A, phi.diff(t, 1) * A.y)                 # Set angular velocity of reference frame\n",
    "C_w = Point('C_w')                                     # Center of wheel\n",
    "J_tensor = J * outer(B.y, B.y)                     # Intertia tensor\n",
    "W = RigidBody('W', C_w, B, M, (J_tensor, C_w))       # Definition of rigid body"
   ]
  },
  {
   "cell_type": "code",
   "execution_count": 5,
   "id": "5e721ed1-7e45-41f9-a727-2d646ae57c7a",
   "metadata": {},
   "outputs": [],
   "source": [
    "# ------------------------------------------------\n",
    "# Constraints\n",
    "# ------------------------------------------------\n",
    "# Set positions\n",
    "C_w.set_pos(O, r_w * ((theta + phi) * N.x + N.z))\n",
    "C_p.set_pos(C_w, lp * (sp.sin(theta) * N.x + sp.cos(theta) * N.z))\n",
    "# Set velocities\n",
    "C_w.set_vel(N, r_w * (theta.diff(t, 1) + phi.diff(t, 1)) * N.x)\n",
    "C_p.set_vel(N, (r_w * (theta.diff(t, 1) + phi.diff(t, 1)) \n",
    "   + lp * theta.diff(t, 1) * sp.cos(theta)) * N.x \\\n",
    "   - lp * theta.diff(t, 1) * sp.sin(theta) * N.z)\n",
    "# Point to apply disturbance\n",
    "P_d = Point('P_d')\n",
    "P_d.set_pos(C_p, lp * A.z)\n",
    "P_d.set_vel(N, (r_w * (theta.diff(t, 1) + phi.diff(t, 1)) \\\n",
    "    + 2 * lp * theta.diff(t, 1) * sp.cos(theta)) * N.x \\\n",
    "    - 2 * lp * theta.diff(t, 1) * sp.sin(theta) * N.z)"
   ]
  },
  {
   "cell_type": "code",
   "execution_count": null,
   "id": "93d4b4de-73c8-42f6-9ca9-1fcb9fca821e",
   "metadata": {},
   "outputs": [
    {
     "name": "stdout",
     "output_type": "stream",
     "text": [
      "Kinetic energy, Pendulum:\n"
     ]
    }
   ],
   "source": [
    "# ------------------------------------------------\n",
    "# Kinetic energies\n",
    "# ------------------------------------------------\n",
    "print('Kinetic energy, Pendulum:')\n",
    "display(P.kinetic_energy(N))\n",
    "print('Kinetic energy, Wheel:')\n",
    "display(W.kinetic_energy(N))"
   ]
  },
  {
   "cell_type": "code",
   "execution_count": null,
   "id": "cc3f6ae6-62c7-45e0-ad2c-fb44ad10e369",
   "metadata": {},
   "outputs": [],
   "source": [
    "# ------------------------------------------------\n",
    "# Potential energies\n",
    "# ------------------------------------------------\n",
    "P.potential_energy = m * g * lp * sp.cos(theta)\n",
    "print('Potential energy of pendulum:')\n",
    "display(P.potential_energy)"
   ]
  },
  {
   "cell_type": "code",
   "execution_count": null,
   "id": "2e7e903c-7a98-4fbb-8005-e65ac0de4e38",
   "metadata": {},
   "outputs": [],
   "source": [
    "# ------------------------------------------------\n",
    "# Euler-Lagrange method\n",
    "# ------------------------------------------------\n",
    "# Get Lagrangian\n",
    "L = Lagrangian(N, P, W)\n",
    "print('Lagrangian:')\n",
    "display(L)\n",
    "# Generalized coordinate\n",
    "q = [theta, phi]\n",
    "\n",
    "# Generalized forces and torques\n",
    "# Control torque\n",
    "tau = sp.symbols('tau')\n",
    "f_control = [(A, -tau * A.y), (B, tau * B.y)]\n",
    "\n",
    "# Friction or dissipative\n",
    "# Friction between pendulum and wheel\n",
    "tau_fp = sp.symbols('tau_fp')\n",
    "tau_fp = mu_p * phi.diff(t, 1)\n",
    "# Friction between pendulum and wheel and friction between wheel and floor\n",
    "tau_fw = sp.symbols('tau_fw')\n",
    "tau_fw = -mu_p * phi.diff(t, 1) - mu_w * (theta.diff(t, 1) + phi.diff(t, 1))\n",
    "f_dissipation = [(A, tau_fp * A.y), (B, tau_fw * B.y)]\n",
    "\n",
    "# Disturbance force\n",
    "f_d = sp.symbols('f_d')\n",
    "f_disturbance = [(P_d, f_d * N.x)]\n",
    "# Summation of generalized forces and torques\n",
    "f = f_control + f_dissipation + f_disturbance\n",
    "# Define a Lagrange's method\n",
    "LM = LagrangesMethod(L, q, forcelist = f, frame = N)\n",
    "# Derive equation of motion!\n",
    "eom = LM.form_lagranges_equations()\n",
    "print('Equation of motion:')\n",
    "display(eom[0].simplify().factor())\n",
    "display(eom[1].simplify().factor())"
   ]
  },
  {
   "cell_type": "code",
   "execution_count": null,
   "id": "be7c30aa-644d-4613-8d4e-c6ee09871835",
   "metadata": {},
   "outputs": [],
   "source": [
    "# ------------------------------------------------\n",
    "# Angular acceleration\n",
    "# ------------------------------------------------\n",
    "# Solve equation of motion with respect to the second-order variables\n",
    "sol = sp.solve(eom, [theta.diff(t, 2), phi.diff(t, 2)])\n",
    "eq1 = sol[theta.diff(t, 2)].simplify()\n",
    "print('Equation with respect to d^2 theta / dt^2')\n",
    "display(eq1)\n",
    "eq2 = sol[phi.diff(t, 2)].simplify()\n",
    "print('Equation with respect to d^2 phi / dt^2')\n",
    "display(eq2)"
   ]
  },
  {
   "cell_type": "code",
   "execution_count": null,
   "id": "2b9b44d5-6645-4d44-94d1-c63acb0d20f7",
   "metadata": {},
   "outputs": [],
   "source": []
  },
  {
   "cell_type": "code",
   "execution_count": null,
   "id": "b291be42-e8a8-4e0f-9bf1-c2f23f224607",
   "metadata": {},
   "outputs": [],
   "source": []
  },
  {
   "cell_type": "code",
   "execution_count": null,
   "id": "3180d7c9-c732-4a8b-8e46-de4a6c185a77",
   "metadata": {},
   "outputs": [],
   "source": []
  },
  {
   "cell_type": "code",
   "execution_count": null,
   "id": "f9314275-bb4e-46e0-8256-26fb72500f93",
   "metadata": {},
   "outputs": [],
   "source": []
  }
 ],
 "metadata": {
  "kernelspec": {
   "display_name": "Python 3 (ipykernel)",
   "language": "python",
   "name": "python3"
  },
  "language_info": {
   "codemirror_mode": {
    "name": "ipython",
    "version": 3
   },
   "file_extension": ".py",
   "mimetype": "text/x-python",
   "name": "python",
   "nbconvert_exporter": "python",
   "pygments_lexer": "ipython3",
   "version": "3.9.7"
  }
 },
 "nbformat": 4,
 "nbformat_minor": 5
}
