{
 "cells": [
  {
   "cell_type": "code",
   "execution_count": 18,
   "id": "5ccd37e9-2b11-4f6d-9931-1da7a0bb0089",
   "metadata": {},
   "outputs": [],
   "source": [
    "import time\n",
    "import requests\n",
    "import json\n",
    "import math\n",
    "import numpy as np\n",
    "import pandas as pd\n",
    "import sympy as sp\n",
    "import matplotlib.pyplot as plt\n",
    "import control\n",
    "\n",
    "from control.matlab import *\n",
    "from scipy.integrate import odeint"
   ]
  },
  {
   "cell_type": "code",
   "execution_count": 19,
   "id": "8ca1fcd4-ab68-476d-9e6d-1b58dd023dec",
   "metadata": {},
   "outputs": [],
   "source": [
    "# APIのパスを設定\n",
    "url = 'http://192.168.1.129:8000'\n",
    "# モーターの絶対位置を返すメソッド\n",
    "get_aposition = '/motors/get_aposition/get/'\n",
    "# リセット位置を基準としたモーターの位置を返すメソッド\n",
    "get_position = '/motors/get_position/get/'\n",
    "# モータの角速度を返すメソッド\n",
    "get_dps = '/motors/dps/get/'\n",
    "# モータにデューティ比を指示するメソッド\n",
    "set_motor_pwm_value = '/motors/pwm_value/set/'#{motor_id}/{pwm_value}\n",
    "#モータ２基に同時にデューティ比を設定するメソッド\n",
    "set_motors_pwm_value = '/motors/pwm_value/set/pare/'#{pwm_value}\n",
    "# モータへ回転角度を指示\n",
    "set_run_for_degree = '/motors/run_for_degrees/set/'#{motor_id}/{degree}/{pwm_value}/{blocking}/\n",
    "# モータ2基へ回転角度を指示\n",
    "set_pare_run_for_degree = '/motors/run_for_degrees/set/pare/'#{degree}/{pwm_value}/{blocking}"
   ]
  },
  {
   "cell_type": "code",
   "execution_count": 24,
   "id": "36b04468-e957-4d47-930c-b40a7c2d53bc",
   "metadata": {},
   "outputs": [
    {
     "name": "stdout",
     "output_type": "stream",
     "text": [
      "{'motor_a_position': 0, 'motor_b_position': 0, 'done': True}\n"
     ]
    }
   ],
   "source": [
    "# モーターの絶対位置を取得するサンプル\n",
    "r = requests.get(url + get_position + '', params={})\n",
    "position = json.loads(r.text)\n",
    "position = position[0]\n",
    "print(position)"
   ]
  },
  {
   "cell_type": "code",
   "execution_count": 21,
   "id": "f852d987-fa9e-411b-ad80-17c887025213",
   "metadata": {},
   "outputs": [
    {
     "name": "stdout",
     "output_type": "stream",
     "text": [
      "{'motor_a_aposition': -116, 'motor_b_aposition': 140, 'done': True}\n"
     ]
    }
   ],
   "source": [
    "# リセット位置を基準としたモーターの位置を取得するサンプル\n",
    "r = requests.get(url + get_aposition + '', params={})\n",
    "aposition = json.loads(r.text)\n",
    "aposition = aposition[0]\n",
    "print(aposition)"
   ]
  },
  {
   "cell_type": "code",
   "execution_count": 22,
   "id": "1f3bcf4b-4d53-4606-8bbf-48475184b9e8",
   "metadata": {},
   "outputs": [
    {
     "name": "stdout",
     "output_type": "stream",
     "text": [
      "{'motor_a_dps': 0, 'motor_b_dps': 0, 'done': True}\n"
     ]
    }
   ],
   "source": [
    "# モータの角速度を取得するサンプル\n",
    "r = requests.get(url + get_dps + '', params={})\n",
    "dps = json.loads(r.text)\n",
    "dps = dps[0]\n",
    "print(dps)"
   ]
  },
  {
   "cell_type": "code",
   "execution_count": 29,
   "id": "657a34f4-f60f-4844-a4f2-ba93b7585607",
   "metadata": {},
   "outputs": [
    {
     "name": "stdout",
     "output_type": "stream",
     "text": [
      "{'pwm_value': 50, 'done': True}\n"
     ]
    }
   ],
   "source": [
    "#モータ２基に同時にデューティ比を設定\n",
    "r = requests.get(url + set_motors_pwm_value + '50', params={})\n",
    "motors_pwm_value = json.loads(r.text)\n",
    "motors_pwm_value = motors_pwm_value[0]\n",
    "print(motors_pwm_value)"
   ]
  },
  {
   "cell_type": "code",
   "execution_count": 17,
   "id": "e1364ff4-9ccd-46d9-82de-2149a7ab7918",
   "metadata": {},
   "outputs": [
    {
     "name": "stdout",
     "output_type": "stream",
     "text": [
      "{'pwm_value': 0, 'done': True}\n"
     ]
    }
   ],
   "source": [
    "#モータ２基に同時にデューティ比を設定\n",
    "r = requests.get(url + set_motors_pwm_value + '0', params={})\n",
    "motors_pwm_value = json.loads(r.text)\n",
    "motors_pwm_value = motors_pwm_value[0]\n",
    "print(motors_pwm_value)"
   ]
  },
  {
   "cell_type": "code",
   "execution_count": null,
   "id": "40bd1bcf-ac00-440e-a762-4640ed38df3d",
   "metadata": {},
   "outputs": [],
   "source": []
  },
  {
   "cell_type": "code",
   "execution_count": null,
   "id": "d4256f18-fb09-434a-ac41-08881c209cb1",
   "metadata": {},
   "outputs": [],
   "source": []
  },
  {
   "cell_type": "code",
   "execution_count": null,
   "id": "b213007d-86b2-443a-9bfe-2ec3148b29b8",
   "metadata": {},
   "outputs": [],
   "source": []
  },
  {
   "cell_type": "code",
   "execution_count": null,
   "id": "38234c72-b174-4454-ae7d-ae4eb7554a43",
   "metadata": {},
   "outputs": [],
   "source": []
  },
  {
   "cell_type": "code",
   "execution_count": null,
   "id": "7e2e13ce-d690-46b5-8e16-2b432d2ff69a",
   "metadata": {},
   "outputs": [],
   "source": []
  },
  {
   "cell_type": "code",
   "execution_count": null,
   "id": "55c73188-e52c-48ac-8dce-5fdf7da68d23",
   "metadata": {},
   "outputs": [],
   "source": []
  },
  {
   "cell_type": "code",
   "execution_count": null,
   "id": "1ccc1885-d5f4-4a7b-8957-cabb49f49d10",
   "metadata": {},
   "outputs": [],
   "source": []
  },
  {
   "cell_type": "code",
   "execution_count": null,
   "id": "e50b72c2-5cb2-40b6-a5cf-280a2b367210",
   "metadata": {},
   "outputs": [],
   "source": []
  },
  {
   "cell_type": "code",
   "execution_count": null,
   "id": "b4a713f0-859b-4a92-8301-6f139a00fd67",
   "metadata": {},
   "outputs": [],
   "source": []
  },
  {
   "cell_type": "code",
   "execution_count": null,
   "id": "f4a45002-1119-4532-8a4d-6f792394357b",
   "metadata": {},
   "outputs": [],
   "source": []
  },
  {
   "cell_type": "code",
   "execution_count": null,
   "id": "cfff5969-efa1-4b6a-99d7-7697c2992552",
   "metadata": {},
   "outputs": [],
   "source": []
  },
  {
   "cell_type": "code",
   "execution_count": null,
   "id": "97e8fd55-1d5e-43f9-aaf8-c3a8fca8c692",
   "metadata": {},
   "outputs": [],
   "source": []
  }
 ],
 "metadata": {
  "kernelspec": {
   "display_name": "Python 3 (ipykernel)",
   "language": "python",
   "name": "python3"
  },
  "language_info": {
   "codemirror_mode": {
    "name": "ipython",
    "version": 3
   },
   "file_extension": ".py",
   "mimetype": "text/x-python",
   "name": "python",
   "nbconvert_exporter": "python",
   "pygments_lexer": "ipython3",
   "version": "3.9.7"
  }
 },
 "nbformat": 4,
 "nbformat_minor": 5
}
