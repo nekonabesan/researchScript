{
 "cells": [
  {
   "cell_type": "code",
   "execution_count": 1,
   "id": "6bd34608-104a-42ce-8910-b332739d762c",
   "metadata": {},
   "outputs": [],
   "source": [
    "import sympy as sp\n",
    "from sympy.physics.mechanics import *\n",
    "init_vprinting()"
   ]
  },
  {
   "cell_type": "code",
   "execution_count": 2,
   "id": "5acf6570-8999-43c9-a382-3ebafa59fa88",
   "metadata": {},
   "outputs": [],
   "source": [
    "# ------------------------------------------------\n",
    "# Common symbols and reference frame\n",
    "# ------------------------------------------------\n",
    "# Define symbols, Common\n",
    "t = sp.symbols('t')                                    # Time\n",
    "g = sp.symbols('g')                                    # Gravity\n",
    "# Define reference frame, Common\n",
    "N = ReferenceFrame('N')\n",
    "O = Point('O')                                         # Origin point\n",
    "O.set_vel(N, 0)"
   ]
  },
  {
   "cell_type": "code",
   "execution_count": 3,
   "id": "1c439133-57e7-4b75-897f-05141923f251",
   "metadata": {},
   "outputs": [],
   "source": [
    "# ------------------------------------------------\n",
    "# Pendulum\n",
    "# ------------------------------------------------\n",
    "# Symbols\n",
    "M, I, lp, mu_p = sp.symbols('M I lp mu_p')           # Mass, Inertia, length, and friction\n",
    "theta = dynamicsymbols('theta')                        # Angle with respect to vertical line\n",
    "# Reference frame and rigid body\n",
    "A = N.orientnew('A', 'Axis', (theta, N.y))             # Define new reference frame for pendulum\n",
    "A.set_ang_vel(N, theta.diff(t, 1) * N.y)               # Set angular velocity of reference frame\n",
    "C_p = Point('C_p')                                     # Mass center of pendulum\n",
    "I_tensor = I * outer(A.y, A.y)                     # Inertia tensor\n",
    "P = RigidBody('P', C_p, A, M, (I_tensor, C_p))       # Definition of rigid body"
   ]
  },
  {
   "cell_type": "code",
   "execution_count": 4,
   "id": "8b2a0e2b-e05f-4e39-99c8-f219ed4baa4e",
   "metadata": {},
   "outputs": [],
   "source": [
    "# ------------------------------------------------\n",
    "# Wheel\n",
    "# ------------------------------------------------\n",
    "# Symbols\n",
    "m, J, r_w, mu_w = sp.symbols('m J r_w mu_w')\n",
    "phi = dynamicsymbols('phi')\n",
    "# Reference frame and rigid body\n",
    "B = A.orientnew('B', 'Axis', (phi, A.y))               # Define new reference frame for pendulum\n",
    "B.set_ang_vel(A, phi.diff(t, 1) * A.y)                 # Set angular velocity of reference frame\n",
    "C_w = Point('C_w')                                     # Center of wheel\n",
    "J_tensor = J * outer(B.y, B.y)                     # Intertia tensor\n",
    "W = RigidBody('W', C_w, B, M, (J_tensor, C_w))       # Definition of rigid body"
   ]
  },
  {
   "cell_type": "code",
   "execution_count": 5,
   "id": "5e721ed1-7e45-41f9-a727-2d646ae57c7a",
   "metadata": {},
   "outputs": [],
   "source": [
    "# ------------------------------------------------\n",
    "# Constraints\n",
    "# ------------------------------------------------\n",
    "# Set positions\n",
    "C_w.set_pos(O, r_w * ((theta + phi) * N.x + N.z))\n",
    "C_p.set_pos(C_w, lp * (sp.sin(theta) * N.x + sp.cos(theta) * N.z))\n",
    "# Set velocities\n",
    "C_w.set_vel(N, r_w * (theta.diff(t, 1) + phi.diff(t, 1)) * N.x)\n",
    "C_p.set_vel(N, (r_w * (theta.diff(t, 1) + phi.diff(t, 1)) \n",
    "   + lp * theta.diff(t, 1) * sp.cos(theta)) * N.x \\\n",
    "   - lp * theta.diff(t, 1) * sp.sin(theta) * N.z)\n",
    "# Point to apply disturbance\n",
    "P_d = Point('P_d')\n",
    "P_d.set_pos(C_p, lp * A.z)\n",
    "P_d.set_vel(N, (r_w * (theta.diff(t, 1) + phi.diff(t, 1)) \\\n",
    "    + 2 * lp * theta.diff(t, 1) * sp.cos(theta)) * N.x \\\n",
    "    - 2 * lp * theta.diff(t, 1) * sp.sin(theta) * N.z)"
   ]
  },
  {
   "cell_type": "code",
   "execution_count": 6,
   "id": "93d4b4de-73c8-42f6-9ca9-1fcb9fca821e",
   "metadata": {},
   "outputs": [
    {
     "name": "stdout",
     "output_type": "stream",
     "text": [
      "Kinetic energy, Pendulum:\n"
     ]
    },
    {
     "data": {
      "image/png": "[encoded data removed]",
      "text/latex": [
       "$\\displaystyle \\frac{I \\dot{\\theta}^{2}}{2} + \\frac{M \\left(lp^{2} \\sin^{2}{\\left(\\theta \\right)} \\dot{\\theta}^{2} + \\left(lp \\cos{\\left(\\theta \\right)} \\dot{\\theta} + r_{w} \\left(\\dot{\\phi} + \\dot{\\theta}\\right)\\right)^{2}\\right)}{2}$"
      ],
      "text/plain": [
       "   2     ⎛  2    2     2                              2⎞\n",
       "I⋅θ̇    M⋅⎝lp ⋅sin (θ)⋅θ̇  + (lp⋅cos(θ)⋅θ̇ + r_w⋅(φ̇ + θ̇)) ⎠\n",
       "──── + ─────────────────────────────────────────────────\n",
       " 2                             2                        "
      ]
     },
     "metadata": {},
     "output_type": "display_data"
    },
    {
     "name": "stdout",
     "output_type": "stream",
     "text": [
      "Kinetic energy, Wheel:\n"
     ]
    },
    {
     "data": {
      "image/png": "[encoded data removed]",
      "text/latex": [
       "$\\displaystyle \\frac{J \\left(\\dot{\\phi} + \\dot{\\theta}\\right) \\dot{\\phi}}{2} + \\frac{J \\left(\\dot{\\phi} + \\dot{\\theta}\\right) \\dot{\\theta}}{2} + \\frac{M r_{w}^{2} \\left(\\dot{\\phi} + \\dot{\\theta}\\right)^{2}}{2}$"
      ],
      "text/plain": [
       "                                 2        2\n",
       "J⋅(φ̇ + θ̇)⋅φ̇   J⋅(φ̇ + θ̇)⋅θ̇   M⋅r_w ⋅(φ̇ + θ̇) \n",
       "─────────── + ─────────── + ───────────────\n",
       "     2             2               2       "
      ]
     },
     "metadata": {},
     "output_type": "display_data"
    }
   ],
   "source": [
    "# ------------------------------------------------\n",
    "# Kinetic energies\n",
    "# ------------------------------------------------\n",
    "print('Kinetic energy, Pendulum:')\n",
    "display(P.kinetic_energy(N))\n",
    "print('Kinetic energy, Wheel:')\n",
    "display(W.kinetic_energy(N))"
   ]
  },
  {
   "cell_type": "code",
   "execution_count": 7,
   "id": "cc3f6ae6-62c7-45e0-ad2c-fb44ad10e369",
   "metadata": {},
   "outputs": [
    {
     "name": "stdout",
     "output_type": "stream",
     "text": [
      "Potential energy of pendulum:\n"
     ]
    },
    {
     "data": {
      "image/png": "[encoded data removed]",
      "text/latex": [
       "$\\displaystyle g lp m \\cos{\\left(\\theta \\right)}$"
      ],
      "text/plain": [
       "g⋅lp⋅m⋅cos(θ)"
      ]
     },
     "metadata": {},
     "output_type": "display_data"
    }
   ],
   "source": [
    "# ------------------------------------------------\n",
    "# Potential energies\n",
    "# ------------------------------------------------\n",
    "P.potential_energy = m * g * lp * sp.cos(theta)\n",
    "print('Potential energy of pendulum:')\n",
    "display(P.potential_energy)"
   ]
  },
  {
   "cell_type": "code",
   "execution_count": 12,
   "id": "2e7e903c-7a98-4fbb-8005-e65ac0de4e38",
   "metadata": {},
   "outputs": [
    {
     "name": "stdout",
     "output_type": "stream",
     "text": [
      "Lagrangian:\n"
     ]
    },
    {
     "data": {
      "image/png": "[encoded data removed]",
      "text/latex": [
       "$\\displaystyle \\frac{I \\dot{\\theta}^{2}}{2} + \\frac{J \\left(\\dot{\\phi} + \\dot{\\theta}\\right) \\dot{\\phi}}{2} + \\frac{J \\left(\\dot{\\phi} + \\dot{\\theta}\\right) \\dot{\\theta}}{2} + \\frac{M r_{w}^{2} \\left(\\dot{\\phi} + \\dot{\\theta}\\right)^{2}}{2} + \\frac{M \\left(lp^{2} \\sin^{2}{\\left(\\theta \\right)} \\dot{\\theta}^{2} + \\left(lp \\cos{\\left(\\theta \\right)} \\dot{\\theta} + r_{w} \\left(\\dot{\\phi} + \\dot{\\theta}\\right)\\right)^{2}\\right)}{2} - g lp m \\cos{\\left(\\theta \\right)}$"
      ],
      "text/plain": [
       "   2                                    2        2     ⎛  2    2     2                              2⎞                \n",
       "I⋅θ̇    J⋅(φ̇ + θ̇)⋅φ̇   J⋅(φ̇ + θ̇)⋅θ̇   M⋅r_w ⋅(φ̇ + θ̇)    M⋅⎝lp ⋅sin (θ)⋅θ̇  + (lp⋅cos(θ)⋅θ̇ + r_w⋅(φ̇ + θ̇)) ⎠                \n",
       "──── + ─────────── + ─────────── + ─────────────── + ───────────────────────────────────────────────── - g⋅lp⋅m⋅cos(θ)\n",
       " 2          2             2               2                                  2                                        "
      ]
     },
     "metadata": {},
     "output_type": "display_data"
    },
    {
     "name": "stdout",
     "output_type": "stream",
     "text": [
      "Equation of motion:\n"
     ]
    },
    {
     "data": {
      "image/png": "[encoded data removed]",
      "text/latex": [
       "$\\displaystyle I \\ddot{\\theta} + J \\ddot{\\phi} + J \\ddot{\\theta} + M lp^{2} \\ddot{\\theta} - M lp r_{w} \\sin{\\left(\\theta \\right)} \\dot{\\theta}^{2} + M lp r_{w} \\cos{\\left(\\theta \\right)} \\ddot{\\phi} + 2 M lp r_{w} \\cos{\\left(\\theta \\right)} \\ddot{\\theta} + 2 M r_{w}^{2} \\ddot{\\phi} + 2 M r_{w}^{2} \\ddot{\\theta} - 2 f_{d} lp \\cos{\\left(\\theta \\right)} - f_{d} r_{w} - g lp m \\sin{\\left(\\theta \\right)} + \\mu_{w} \\dot{\\phi} + \\mu_{w} \\dot{\\theta}$"
      ],
      "text/plain": [
       "                      2                      2                                                    2            2                            \n",
       "I⋅θ̈ + J⋅φ̈ + J⋅θ̈ + M⋅lp ⋅θ̈ - M⋅lp⋅r_w⋅sin(θ)⋅θ̇  + M⋅lp⋅r_w⋅cos(θ)⋅φ̈ + 2⋅M⋅lp⋅r_w⋅cos(θ)⋅θ̈ + 2⋅M⋅r_w ⋅φ̈ + 2⋅M⋅r_w ⋅θ̈ - 2⋅f_d⋅lp⋅cos(θ\n",
       "\n",
       "                                  \n",
       ") - f_d⋅r_w - g⋅lp⋅m⋅sin(θ) + μ_w⋅φ̇ + μ_w⋅θ̇"
      ]
     },
     "metadata": {},
     "output_type": "display_data"
    },
    {
     "data": {
      "image/png": "[encoded data removed]",
      "text/latex": [
       "$\\displaystyle J \\ddot{\\phi} + J \\ddot{\\theta} - M lp r_{w} \\sin{\\left(\\theta \\right)} \\dot{\\theta}^{2} + M lp r_{w} \\cos{\\left(\\theta \\right)} \\ddot{\\theta} + 2 M r_{w}^{2} \\ddot{\\phi} + 2 M r_{w}^{2} \\ddot{\\theta} - f_{d} r_{w} + \\mu_{p} \\dot{\\phi} + \\mu_{w} \\dot{\\phi} + \\mu_{w} \\dot{\\theta} - \\tau$"
      ],
      "text/plain": [
       "                             2                              2            2                                       \n",
       "J⋅φ̈ + J⋅θ̈ - M⋅lp⋅r_w⋅sin(θ)⋅θ̇  + M⋅lp⋅r_w⋅cos(θ)⋅θ̈ + 2⋅M⋅r_w ⋅φ̈ + 2⋅M⋅r_w ⋅θ̈ - f_d⋅r_w + μₚ⋅φ̇ + μ_w⋅φ̇ + μ_w⋅θ̇ - τ"
      ]
     },
     "metadata": {},
     "output_type": "display_data"
    }
   ],
   "source": [
    "# ------------------------------------------------\n",
    "# Euler-Lagrange method\n",
    "# ------------------------------------------------\n",
    "# Get Lagrangian\n",
    "L = Lagrangian(N, P, W)\n",
    "print('Lagrangian:')\n",
    "display(L)\n",
    "# Generalized coordinate\n",
    "q = [theta, phi]\n",
    "\n",
    "# Generalized forces and torques\n",
    "# Control torque\n",
    "tau = sp.symbols('tau')\n",
    "f_control = [(A, -tau * A.y), (B, tau * B.y)]\n",
    "\n",
    "# Friction or dissipative\n",
    "# Friction between pendulum and wheel\n",
    "tau_fp = sp.symbols('tau_fp')\n",
    "tau_fp = mu_p * phi.diff(t, 1)\n",
    "# Friction between pendulum and wheel and friction between wheel and floor\n",
    "tau_fw = sp.symbols('tau_fw')\n",
    "tau_fw = -mu_p * phi.diff(t, 1) - mu_w * (theta.diff(t, 1) + phi.diff(t, 1))\n",
    "f_dissipation = [(A, tau_fp * A.y), (B, tau_fw * B.y)]\n",
    "\n",
    "# Disturbance force\n",
    "f_d = sp.symbols('f_d')\n",
    "f_disturbance = [(P_d, f_d * N.x)]\n",
    "# Summation of generalized forces and torques\n",
    "f = f_control + f_dissipation + f_disturbance\n",
    "# Define a Lagrange's method\n",
    "LM = LagrangesMethod(L, q, forcelist = f, frame = N)\n",
    "# Derive equation of motion!\n",
    "eom = LM.form_lagranges_equations()\n",
    "print('Equation of motion:')\n",
    "display(eom[0].simplify().factor())\n",
    "display(eom[1].simplify().factor())"
   ]
  },
  {
   "cell_type": "code",
   "execution_count": 11,
   "id": "be7c30aa-644d-4613-8d4e-c6ee09871835",
   "metadata": {},
   "outputs": [
    {
     "name": "stdout",
     "output_type": "stream",
     "text": [
      "Equation with respect to d^2 theta / dt^2\n"
     ]
    },
    {
     "data": {
      "image/png": "[encoded data removed]",
      "text/latex": [
       "$\\displaystyle \\frac{2 J f_{d} lp \\cos{\\left(\\theta \\right)} + J g lp m \\sin{\\left(\\theta \\right)} + J \\mu_{p} \\dot{\\phi} - J \\tau - \\frac{M^{2} lp^{2} r_{w}^{2} \\sin{\\left(2 \\theta \\right)} \\dot{\\theta}^{2}}{2} + 3 M f_{d} lp r_{w}^{2} \\cos{\\left(\\theta \\right)} + 2 M g lp m r_{w}^{2} \\sin{\\left(\\theta \\right)} + M lp \\mu_{p} r_{w} \\cos{\\left(\\theta \\right)} \\dot{\\phi} + M lp \\mu_{w} r_{w} \\cos{\\left(\\theta \\right)} \\dot{\\phi} + M lp \\mu_{w} r_{w} \\cos{\\left(\\theta \\right)} \\dot{\\theta} - M lp r_{w} \\tau \\cos{\\left(\\theta \\right)} + 2 M \\mu_{p} r_{w}^{2} \\dot{\\phi} - 2 M r_{w}^{2} \\tau}{I J + 2 I M r_{w}^{2} + J M lp^{2} + M^{2} lp^{2} r_{w}^{2} \\sin^{2}{\\left(\\theta \\right)} + M^{2} lp^{2} r_{w}^{2}}$"
      ],
      "text/plain": [
       "                                                      2   2    2           2                                                                \n",
       "                                                     M ⋅lp ⋅r_w ⋅sin(2⋅θ)⋅θ̇                  2                        2                    \n",
       "2⋅J⋅f_d⋅lp⋅cos(θ) + J⋅g⋅lp⋅m⋅sin(θ) + J⋅μₚ⋅φ̇ - J⋅τ - ─────────────────────── + 3⋅M⋅f_d⋅lp⋅r_w ⋅cos(θ) + 2⋅M⋅g⋅lp⋅m⋅r_w ⋅sin(θ) + M⋅lp⋅μₚ⋅r_\n",
       "                                                                2                                                                           \n",
       "────────────────────────────────────────────────────────────────────────────────────────────────────────────────────────────────────────────\n",
       "                                                                                                           2         2    2   2    2    2   \n",
       "                                                                                            I⋅J + 2⋅I⋅M⋅r_w  + J⋅M⋅lp  + M ⋅lp ⋅r_w ⋅sin (θ)\n",
       "\n",
       "                                                                                                          \n",
       "                                                                                           2            2  \n",
       "w⋅cos(θ)⋅φ̇ + M⋅lp⋅μ_w⋅r_w⋅cos(θ)⋅φ̇ + M⋅lp⋅μ_w⋅r_w⋅cos(θ)⋅θ̇ - M⋅lp⋅r_w⋅τ⋅cos(θ) + 2⋅M⋅μₚ⋅r_w ⋅φ̇ - 2⋅M⋅r_w ⋅τ\n",
       "                                                                                                          \n",
       "──────────────────────────────────────────────────────────────────────────────────────────────────────────\n",
       "    2   2    2                                                                                            \n",
       " + M ⋅lp ⋅r_w                                                                                             "
      ]
     },
     "metadata": {},
     "output_type": "display_data"
    },
    {
     "name": "stdout",
     "output_type": "stream",
     "text": [
      "Equation with respect to d^2 phi / dt^2\n"
     ]
    },
    {
     "data": {
      "image/png": "[encoded data removed]",
      "text/latex": [
       "$\\displaystyle \\frac{I M lp r_{w} \\sin{\\left(\\theta \\right)} \\dot{\\theta}^{2} + I f_{d} r_{w} - I \\mu_{p} \\dot{\\phi} - I \\mu_{w} \\dot{\\phi} - I \\mu_{w} \\dot{\\theta} + I \\tau - 2 J f_{d} lp \\cos{\\left(\\theta \\right)} - J g lp m \\sin{\\left(\\theta \\right)} - J \\mu_{p} \\dot{\\phi} + J \\tau + M^{2} lp^{3} r_{w} \\sin{\\left(\\theta \\right)} \\dot{\\theta}^{2} + \\frac{M^{2} lp^{2} r_{w}^{2} \\sin{\\left(2 \\theta \\right)} \\dot{\\theta}^{2}}{2} - M f_{d} lp^{2} r_{w} \\cos{\\left(2 \\theta \\right)} - 3 M f_{d} lp r_{w}^{2} \\cos{\\left(\\theta \\right)} - \\frac{M g lp^{2} m r_{w} \\sin{\\left(2 \\theta \\right)}}{2} - 2 M g lp m r_{w}^{2} \\sin{\\left(\\theta \\right)} - M lp^{2} \\mu_{p} \\dot{\\phi} - M lp^{2} \\mu_{w} \\dot{\\phi} - M lp^{2} \\mu_{w} \\dot{\\theta} + M lp^{2} \\tau - 2 M lp \\mu_{p} r_{w} \\cos{\\left(\\theta \\right)} \\dot{\\phi} - M lp \\mu_{w} r_{w} \\cos{\\left(\\theta \\right)} \\dot{\\phi} - M lp \\mu_{w} r_{w} \\cos{\\left(\\theta \\right)} \\dot{\\theta} + 2 M lp r_{w} \\tau \\cos{\\left(\\theta \\right)} - 2 M \\mu_{p} r_{w}^{2} \\dot{\\phi} + 2 M r_{w}^{2} \\tau}{I J + 2 I M r_{w}^{2} + J M lp^{2} + M^{2} lp^{2} r_{w}^{2} \\sin^{2}{\\left(\\theta \\right)} + M^{2} lp^{2} r_{w}^{2}}$"
      ],
      "text/plain": [
       "                                                                                                                                            \n",
       "                   2                                                                                                        2   3           \n",
       "I⋅M⋅lp⋅r_w⋅sin(θ)⋅θ̇  + I⋅f_d⋅r_w - I⋅μₚ⋅φ̇ - I⋅μ_w⋅φ̇ - I⋅μ_w⋅θ̇ + I⋅τ - 2⋅J⋅f_d⋅lp⋅cos(θ) - J⋅g⋅lp⋅m⋅sin(θ) - J⋅μₚ⋅φ̇ + J⋅τ + M ⋅lp ⋅r_w⋅s\n",
       "                                                                                                                                            \n",
       "────────────────────────────────────────────────────────────────────────────────────────────────────────────────────────────────────────────\n",
       "                                                                                                                                            \n",
       "                                                                                                                                            \n",
       "\n",
       "       2   2    2           2                                                           2                                                   \n",
       "  2   M ⋅lp ⋅r_w ⋅sin(2⋅θ)⋅θ̇            2                              2          M⋅g⋅lp ⋅m⋅r_w⋅sin(2⋅θ)                 2              2  \n",
       "in(θ)⋅θ̇  + ─────────────────────── - M⋅f_d⋅lp ⋅r_w⋅cos(2⋅θ) - 3⋅M⋅f_d⋅lp⋅r_w ⋅cos(θ) - ────────────────────── - 2⋅M⋅g⋅lp⋅m⋅r_w ⋅sin(θ) - M⋅\n",
       "                 2                                                                          2                                               \n",
       "────────────────────────────────────────────────────────────────────────────────────────────────────────────────────────────────────────────\n",
       "                                                                  2         2    2   2    2    2       2   2    2                           \n",
       "                                                   I⋅J + 2⋅I⋅M⋅r_w  + J⋅M⋅lp  + M ⋅lp ⋅r_w ⋅sin (θ) + M ⋅lp ⋅r_w                            \n",
       "\n",
       "                                                                                                                                            \n",
       "          2             2             2                                                                                                     \n",
       "lp ⋅μₚ⋅φ̇ - M⋅lp ⋅μ_w⋅φ̇ - M⋅lp ⋅μ_w⋅θ̇ + M⋅lp ⋅τ - 2⋅M⋅lp⋅μₚ⋅r_w⋅cos(θ)⋅φ̇ - M⋅lp⋅μ_w⋅r_w⋅cos(θ)⋅φ̇ - M⋅lp⋅μ_w⋅r_w⋅cos(θ)⋅θ̇ + 2⋅M⋅lp⋅r_w⋅τ\n",
       "                                                                                                                                            \n",
       "────────────────────────────────────────────────────────────────────────────────────────────────────────────────────────────────────────────\n",
       "                                                                                                                                            \n",
       "                                                                                                                                            \n",
       "\n",
       "                        \n",
       "         2            2  \n",
       "⋅cos(θ) - 2⋅M⋅μₚ⋅r_w ⋅φ̇ + 2⋅M⋅r_w ⋅τ\n",
       "                        \n",
       "────────────────────────\n",
       "                        \n",
       "                        "
      ]
     },
     "metadata": {},
     "output_type": "display_data"
    }
   ],
   "source": [
    "# ------------------------------------------------\n",
    "# Angular acceleration\n",
    "# ------------------------------------------------\n",
    "# Solve equation of motion with respect to the second-order variables\n",
    "sol = sp.solve(eom, [theta.diff(t, 2), phi.diff(t, 2)])\n",
    "eq1 = sol[theta.diff(t, 2)].simplify()\n",
    "print('Equation with respect to d^2 theta / dt^2')\n",
    "display(eq1)\n",
    "eq2 = sol[phi.diff(t, 2)].simplify()\n",
    "print('Equation with respect to d^2 phi / dt^2')\n",
    "display(eq2)"
   ]
  },
  {
   "cell_type": "code",
   "execution_count": null,
   "id": "2b9b44d5-6645-4d44-94d1-c63acb0d20f7",
   "metadata": {},
   "outputs": [],
   "source": []
  },
  {
   "cell_type": "code",
   "execution_count": null,
   "id": "b291be42-e8a8-4e0f-9bf1-c2f23f224607",
   "metadata": {},
   "outputs": [],
   "source": []
  },
  {
   "cell_type": "code",
   "execution_count": null,
   "id": "3180d7c9-c732-4a8b-8e46-de4a6c185a77",
   "metadata": {},
   "outputs": [],
   "source": []
  },
  {
   "cell_type": "code",
   "execution_count": null,
   "id": "f9314275-bb4e-46e0-8256-26fb72500f93",
   "metadata": {},
   "outputs": [],
   "source": []
  }
 ],
 "metadata": {
  "kernelspec": {
   "display_name": "Python 3 (ipykernel)",
   "language": "python",
   "name": "python3"
  },
  "language_info": {
   "codemirror_mode": {
    "name": "ipython",
    "version": 3
   },
   "file_extension": ".py",
   "mimetype": "text/x-python",
   "name": "python",
   "nbconvert_exporter": "python",
   "pygments_lexer": "ipython3",
   "version": "3.10.12"
  }
 },
 "nbformat": 4,
 "nbformat_minor": 5
}
